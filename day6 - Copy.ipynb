{
 "cells": [
  {
   "cell_type": "code",
   "execution_count": 1,
   "metadata": {},
   "outputs": [
    {
     "ename": "SyntaxError",
     "evalue": "EOL while scanning string literal (<ipython-input-1-f0ecb7b56807>, line 10)",
     "output_type": "error",
     "traceback": [
      "\u001b[1;36m  File \u001b[1;32m\"<ipython-input-1-f0ecb7b56807>\"\u001b[1;36m, line \u001b[1;32m10\u001b[0m\n\u001b[1;33m    print(f'congratulations {name} you have been posted to {random.choice(state) }'')\u001b[0m\n\u001b[1;37m                                                                                     ^\u001b[0m\n\u001b[1;31mSyntaxError\u001b[0m\u001b[1;31m:\u001b[0m EOL while scanning string literal\n"
     ]
    }
   ],
   "source": [
    "gender = input('please provide your gender:')\n",
    "age = int(input('please provide your age:'))\n",
    "marital_status = input('please provide your marital status:')\n",
    "state = ['lagos','Edo','Imo','Jos','kano']\n",
    "if gender=='Female' and marital_status == 'Married':\n",
    "    print(f'congratulations {name} you have retained at head office')\n",
    "elif gender == 'Female' and marital_status == 'single' and age <35:\n",
    "    print (f'congratulations {Name }you have been posted to random.choice(state)}')\n",
    "elif gender == 'Male' and marital_status == 'Single':\n",
    "    print(f'congratulations {name} you have been posted to {random.choice(state) }'')\n",
    "elif\n"
   ]
  },
  {
   "cell_type": "markdown",
   "metadata": {},
   "source": [
    "loops"
   ]
  },
  {
   "cell_type": "code",
   "execution_count": 2,
   "metadata": {},
   "outputs": [
    {
     "name": "stdout",
     "output_type": "stream",
     "text": [
      "apple\n",
      "banana\n",
      "orange\n",
      "grape\n"
     ]
    }
   ],
   "source": [
    "fruits = ['apple', 'banana','orange','grape',]\n",
    "for val in fruits:\n",
    "    print(val)"
   ]
  },
  {
   "cell_type": "code",
   "execution_count": 5,
   "metadata": {},
   "outputs": [
    {
     "name": "stdout",
     "output_type": "stream",
     "text": [
      "red apple\n",
      "yellow apple\n",
      "green apple\n",
      "red banana\n",
      "yellow banana\n",
      "green banana\n",
      "red orange\n",
      "yellow orange\n",
      "green orange\n",
      "red grape\n",
      "yellow grape\n",
      "green grape\n"
     ]
    }
   ],
   "source": [
    "fruits = ['apple', 'banana','orange','grape',]\n",
    "colors = ['red','yellow','green']\n",
    "for val in fruits:\n",
    "    for col in colors:\n",
    "        print(col,val)\n",
    "    \n",
    "    "
   ]
  },
  {
   "cell_type": "code",
   "execution_count": 9,
   "metadata": {},
   "outputs": [
    {
     "name": "stdout",
     "output_type": "stream",
     "text": [
      "apple\n",
      "banana\n",
      "orange\n",
      "grape\n"
     ]
    }
   ],
   "source": [
    "fruits = ['apple', 'banana','orange','grape',]\n",
    "for i in fruits:\n",
    "    if i == 'Banana':\n",
    "        print(i)\n",
    "        break\n",
    "    print(i)\n",
    "        "
   ]
  },
  {
   "cell_type": "code",
   "execution_count": 11,
   "metadata": {},
   "outputs": [
    {
     "name": "stdout",
     "output_type": "stream",
     "text": [
      "apple\n",
      "banana\n",
      "orange\n",
      "grape\n"
     ]
    }
   ],
   "source": [
    "fruits = ['apple', 'banana','orange','grape',]\n",
    "for i in fruits:\n",
    "    if i == 'Banana':\n",
    "        #print(i)\n",
    "        continue\n",
    "    print(i)"
   ]
  },
  {
   "cell_type": "code",
   "execution_count": 13,
   "metadata": {},
   "outputs": [
    {
     "name": "stdout",
     "output_type": "stream",
     "text": [
      "apple\n",
      "banana\n",
      "orange\n",
      "grape\n"
     ]
    }
   ],
   "source": [
    "fruits = ['apple', 'banana','orange','grape',]\n",
    "for i in fruits:\n",
    "    if i == 'Banana':\n",
    "        #print(i)\n",
    "        pass\n",
    "    print(i)"
   ]
  },
  {
   "cell_type": "code",
   "execution_count": 14,
   "metadata": {},
   "outputs": [
    {
     "name": "stdout",
     "output_type": "stream",
     "text": [
      "0\n",
      "1\n",
      "2\n",
      "3\n",
      "4\n",
      "5\n",
      "6\n",
      "7\n",
      "8\n",
      "9\n",
      "10\n",
      "11\n",
      "12\n",
      "13\n",
      "14\n",
      "15\n",
      "16\n",
      "17\n",
      "18\n",
      "19\n",
      "20\n",
      "21\n",
      "22\n",
      "23\n",
      "24\n",
      "25\n",
      "26\n",
      "27\n",
      "28\n",
      "29\n",
      "30\n",
      "31\n",
      "32\n",
      "33\n",
      "34\n",
      "35\n",
      "36\n",
      "37\n",
      "38\n",
      "39\n",
      "40\n",
      "41\n",
      "42\n",
      "43\n",
      "44\n",
      "45\n",
      "46\n",
      "47\n",
      "48\n",
      "49\n"
     ]
    }
   ],
   "source": [
    "for i in range(50):\n",
    "    print(i)"
   ]
  },
  {
   "cell_type": "code",
   "execution_count": 17,
   "metadata": {},
   "outputs": [
    {
     "name": "stdout",
     "output_type": "stream",
     "text": [
      "1 is an odd number\n",
      "2 is an even number\n",
      "3 is an odd number\n",
      "4 is an even number\n",
      "5 is an odd number\n",
      "6 is an even number\n",
      "7 is an odd number\n",
      "8 is an even number\n",
      "9 is an odd number\n",
      "10 is an even number\n",
      "11 is an odd number\n",
      "12 is an even number\n",
      "13 is an odd number\n",
      "14 is an even number\n",
      "15 is an odd number\n",
      "16 is an even number\n",
      "17 is an odd number\n",
      "18 is an even number\n",
      "19 is an odd number\n",
      "20 is an even number\n",
      "21 is an odd number\n",
      "22 is an even number\n",
      "23 is an odd number\n",
      "24 is an even number\n",
      "25 is an odd number\n",
      "26 is an even number\n",
      "27 is an odd number\n",
      "28 is an even number\n",
      "29 is an odd number\n",
      "30 is an even number\n",
      "31 is an odd number\n",
      "32 is an even number\n",
      "33 is an odd number\n",
      "34 is an even number\n",
      "35 is an odd number\n",
      "36 is an even number\n",
      "37 is an odd number\n",
      "38 is an even number\n",
      "39 is an odd number\n",
      "40 is an even number\n",
      "41 is an odd number\n",
      "42 is an even number\n",
      "43 is an odd number\n",
      "44 is an even number\n",
      "45 is an odd number\n",
      "46 is an even number\n",
      "47 is an odd number\n",
      "48 is an even number\n",
      "49 is an odd number\n",
      "50 is an even number\n"
     ]
    }
   ],
   "source": [
    "for i in range(1,51):\n",
    "    if i % 2 == 1:\n",
    "        print(f'{i} is an odd number')\n",
    "    else:\n",
    "        print(f'{i} is an even number')"
   ]
  },
  {
   "cell_type": "code",
   "execution_count": 21,
   "metadata": {},
   "outputs": [
    {
     "name": "stdin",
     "output_type": "stream",
     "text": [
      "please provide a number: 80\n"
     ]
    },
    {
     "name": "stdout",
     "output_type": "stream",
     "text": [
      "80 x 1 = 80\n",
      "80 x 2 = 160\n",
      "80 x 3 = 240\n",
      "80 x 4 = 320\n",
      "80 x 5 = 400\n",
      "80 x 6 = 480\n",
      "80 x 7 = 560\n",
      "80 x 8 = 640\n",
      "80 x 9 = 720\n",
      "80 x 10 = 800\n",
      "80 x 11 = 880\n",
      "80 x 12 = 960\n",
      "80 x 13 = 1040\n"
     ]
    }
   ],
   "source": [
    "num = int(input('please provide a number:'))\n",
    "for i in range(1,14):\n",
    "    print(f'{num} x {i} = {num*i}')\n"
   ]
  },
  {
   "cell_type": "markdown",
   "metadata": {},
   "source": [
    "while loop\n"
   ]
  },
  {
   "cell_type": "code",
   "execution_count": 26,
   "metadata": {},
   "outputs": [
    {
     "name": "stdin",
     "output_type": "stream",
     "text": [
      "please provide a number: 25\n"
     ]
    },
    {
     "name": "stdout",
     "output_type": "stream",
     "text": [
      "25 x 1 = 25\n",
      "25 x 2 = 50\n",
      "25 x 3 = 75\n",
      "25 x 4 = 100\n",
      "25 x 5 = 125\n",
      "25 x 6 = 150\n",
      "25 x 7 = 175\n",
      "25 x 8 = 200\n",
      "25 x 9 = 225\n",
      "25 x 10 = 250\n",
      "25 x 11 = 275\n",
      "25 x 12 = 300\n"
     ]
    }
   ],
   "source": [
    "num = int(input('please provide a number:'))\n",
    "counter = 1\n",
    "while counter <=12:\n",
    "    print(f'{num} x {counter} = {num*counter}')\n",
    "    counter +=1\n",
    "\n",
    "    "
   ]
  },
  {
   "cell_type": "code",
   "execution_count": null,
   "metadata": {},
   "outputs": [
    {
     "name": "stdin",
     "output_type": "stream",
     "text": [
      "enter your guess between 1 and 20 7\n"
     ]
    },
    {
     "name": "stdout",
     "output_type": "stream",
     "text": [
      "your guess is 7\n",
      "hey guess is above the number\n"
     ]
    },
    {
     "name": "stdin",
     "output_type": "stream",
     "text": [
      "enter your guess between 1 and 20: 20\n"
     ]
    },
    {
     "name": "stdout",
     "output_type": "stream",
     "text": [
      "your guess is 20\n",
      "hey guess is above the number\n"
     ]
    },
    {
     "name": "stdin",
     "output_type": "stream",
     "text": [
      "enter your guess between 1 and 20: 34\n"
     ]
    },
    {
     "name": "stdout",
     "output_type": "stream",
     "text": [
      "your guess is 34\n",
      "hey guess is above the number\n"
     ]
    },
    {
     "name": "stdin",
     "output_type": "stream",
     "text": [
      "enter your guess between 1 and 20: 89\n"
     ]
    },
    {
     "name": "stdout",
     "output_type": "stream",
     "text": [
      "your guess is 89\n",
      "hey guess is above the number\n"
     ]
    },
    {
     "name": "stdin",
     "output_type": "stream",
     "text": [
      "enter your guess between 1 and 20: 12\n"
     ]
    },
    {
     "name": "stdout",
     "output_type": "stream",
     "text": [
      "your guess is 12\n",
      "hey guess is above the number\n"
     ]
    },
    {
     "name": "stdin",
     "output_type": "stream",
     "text": [
      "enter your guess between 1 and 20: 19\n"
     ]
    },
    {
     "name": "stdout",
     "output_type": "stream",
     "text": [
      "your guess is 19\n",
      "hey guess is above the number\n"
     ]
    },
    {
     "name": "stdin",
     "output_type": "stream",
     "text": [
      "enter your guess between 1 and 20: 23\n"
     ]
    },
    {
     "name": "stdout",
     "output_type": "stream",
     "text": [
      "your guess is 23\n",
      "hey guess is above the number\n"
     ]
    },
    {
     "name": "stdin",
     "output_type": "stream",
     "text": [
      "enter your guess between 1 and 20: 1\n"
     ]
    },
    {
     "name": "stdout",
     "output_type": "stream",
     "text": [
      "your guess is 1\n",
      "hey guess is below the number\n"
     ]
    },
    {
     "name": "stdin",
     "output_type": "stream",
     "text": [
      "enter your guess between 1 and 20: 455\n"
     ]
    },
    {
     "name": "stdout",
     "output_type": "stream",
     "text": [
      "your guess is 455\n",
      "hey guess is above the number\n"
     ]
    },
    {
     "name": "stdin",
     "output_type": "stream",
     "text": [
      "enter your guess between 1 and 20: 21\n"
     ]
    },
    {
     "name": "stdout",
     "output_type": "stream",
     "text": [
      "your guess is 21\n",
      "hey guess is above the number\n"
     ]
    }
   ],
   "source": [
    "import random\n",
    "num = random.randint(1,21)\n",
    "counter = 0\n",
    "guess = int(input('enter your guess between 1 and 20'))\n",
    "while guess != num:\n",
    "    print(f'your guess is {guess}')\n",
    "    counter+=1\n",
    "    if guess   >  num:\n",
    "    \n",
    "        print('hey guess is above the number')\n",
    "    elif guess < num:\n",
    "        print('hey guess is below the number')\n",
    "    guess = int(input('enter your guess between 1 and 20:'))\n",
    "print('congratulations your guess is correct good job')\n",
    "    \n"
   ]
  },
  {
   "cell_type": "code",
   "execution_count": null,
   "metadata": {},
   "outputs": [],
   "source": []
  }
 ],
 "metadata": {
  "kernelspec": {
   "display_name": "Python 3",
   "language": "python",
   "name": "python3"
  },
  "language_info": {
   "codemirror_mode": {
    "name": "ipython",
    "version": 3
   },
   "file_extension": ".py",
   "mimetype": "text/x-python",
   "name": "python",
   "nbconvert_exporter": "python",
   "pygments_lexer": "ipython3",
   "version": "3.8.3"
  }
 },
 "nbformat": 4,
 "nbformat_minor": 4
}
